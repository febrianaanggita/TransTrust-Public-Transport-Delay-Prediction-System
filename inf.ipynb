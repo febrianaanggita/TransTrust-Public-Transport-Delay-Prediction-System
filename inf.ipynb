{
 "cells": [
  {
   "cell_type": "markdown",
   "id": "e0fe6419",
   "metadata": {},
   "source": [
    "# Librari\n"
   ]
  },
  {
   "cell_type": "code",
   "execution_count": 4,
   "id": "0c7ca25d",
   "metadata": {},
   "outputs": [],
   "source": [
    "# Import Library\n",
    "import numpy as np\n",
    "import pandas as pd\n",
    "import pickle\n",
    "from sklearn.compose import ColumnTransformer"
   ]
  },
  {
   "cell_type": "markdown",
   "id": "fed0c00f",
   "metadata": {},
   "source": [
    "# Load Model"
   ]
  },
  {
   "cell_type": "code",
   "execution_count": 5,
   "id": "0383728e",
   "metadata": {},
   "outputs": [],
   "source": [
    "# Muat kembali model dari file\n",
    "with open(\"model_akhir.pkl\", \"rb\") as file:\n",
    "    model_rf = pickle.load(file)"
   ]
  },
  {
   "cell_type": "code",
   "execution_count": 7,
   "id": "a4ee5198",
   "metadata": {},
   "outputs": [
    {
     "data": {
      "text/html": [
       "<div>\n",
       "<style scoped>\n",
       "    .dataframe tbody tr th:only-of-type {\n",
       "        vertical-align: middle;\n",
       "    }\n",
       "\n",
       "    .dataframe tbody tr th {\n",
       "        vertical-align: top;\n",
       "    }\n",
       "\n",
       "    .dataframe thead th {\n",
       "        text-align: right;\n",
       "    }\n",
       "</style>\n",
       "<table border=\"1\" class=\"dataframe\">\n",
       "  <thead>\n",
       "    <tr style=\"text-align: right;\">\n",
       "      <th></th>\n",
       "      <th>transport_type</th>\n",
       "      <th>origin_station</th>\n",
       "      <th>destination_station</th>\n",
       "      <th>actual_departure_delay_min</th>\n",
       "      <th>temperature_C</th>\n",
       "      <th>humidity_percent</th>\n",
       "      <th>event_attendance_est</th>\n",
       "      <th>traffic_congestion_index</th>\n",
       "      <th>holiday</th>\n",
       "      <th>weekday</th>\n",
       "      <th>season</th>\n",
       "      <th>datetime</th>\n",
       "      <th>scheduled_duration_min</th>\n",
       "    </tr>\n",
       "  </thead>\n",
       "  <tbody>\n",
       "    <tr>\n",
       "      <th>0</th>\n",
       "      <td>Bus</td>\n",
       "      <td>Station_12</td>\n",
       "      <td>Station_30</td>\n",
       "      <td>8</td>\n",
       "      <td>29.3</td>\n",
       "      <td>76</td>\n",
       "      <td>250</td>\n",
       "      <td>68</td>\n",
       "      <td>0</td>\n",
       "      <td>1</td>\n",
       "      <td>Wet</td>\n",
       "      <td>2025-10-08 08:00:00</td>\n",
       "      <td>50</td>\n",
       "    </tr>\n",
       "  </tbody>\n",
       "</table>\n",
       "</div>"
      ],
      "text/plain": [
       "  transport_type origin_station destination_station  \\\n",
       "0            Bus     Station_12          Station_30   \n",
       "\n",
       "   actual_departure_delay_min  temperature_C  humidity_percent  \\\n",
       "0                           8           29.3                76   \n",
       "\n",
       "   event_attendance_est  traffic_congestion_index holiday weekday season  \\\n",
       "0                   250                        68       0       1    Wet   \n",
       "\n",
       "             datetime  scheduled_duration_min  \n",
       "0 2025-10-08 08:00:00                      50  "
      ]
     },
     "execution_count": 7,
     "metadata": {},
     "output_type": "execute_result"
    }
   ],
   "source": [
    "data_baru = pd.DataFrame([{\n",
    "    'transport_type': 'Bus',\n",
    "    'origin_station': 'Station_12',\n",
    "    'destination_station': 'Station_30',\n",
    "    'actual_departure_delay_min': 8,\n",
    "    'temperature_C': 29.3,\n",
    "    'humidity_percent': 76,\n",
    "    'event_attendance_est': 250,\n",
    "    'traffic_congestion_index': 68,\n",
    "    'holiday': 0,\n",
    "    'weekday': 1,\n",
    "    'season': 'Wet',\n",
    "    'datetime': pd.Timestamp('2025-10-08 08:00:00'),\n",
    "    'scheduled_duration_min': 50\n",
    "}])\n",
    "\n",
    "kategori = [\"holiday\", \"weekday\"]\n",
    "data_baru[kategori] = data_baru[kategori].astype(\"category\")\n",
    "data_baru.head()"
   ]
  },
  {
   "cell_type": "code",
   "execution_count": 8,
   "id": "7c5af340",
   "metadata": {},
   "outputs": [
    {
     "name": "stdout",
     "output_type": "stream",
     "text": [
      "<class 'pandas.core.frame.DataFrame'>\n",
      "RangeIndex: 1 entries, 0 to 0\n",
      "Data columns (total 13 columns):\n",
      " #   Column                      Non-Null Count  Dtype         \n",
      "---  ------                      --------------  -----         \n",
      " 0   transport_type              1 non-null      object        \n",
      " 1   origin_station              1 non-null      object        \n",
      " 2   destination_station         1 non-null      object        \n",
      " 3   actual_departure_delay_min  1 non-null      int64         \n",
      " 4   temperature_C               1 non-null      float64       \n",
      " 5   humidity_percent            1 non-null      int64         \n",
      " 6   event_attendance_est        1 non-null      int64         \n",
      " 7   traffic_congestion_index    1 non-null      int64         \n",
      " 8   holiday                     1 non-null      category      \n",
      " 9   weekday                     1 non-null      category      \n",
      " 10  season                      1 non-null      object        \n",
      " 11  datetime                    1 non-null      datetime64[ns]\n",
      " 12  scheduled_duration_min      1 non-null      int64         \n",
      "dtypes: category(2), datetime64[ns](1), float64(1), int64(5), object(4)\n",
      "memory usage: 450.0+ bytes\n"
     ]
    }
   ],
   "source": [
    "data_baru.info()"
   ]
  },
  {
   "cell_type": "code",
   "execution_count": 9,
   "id": "1f04dad6",
   "metadata": {},
   "outputs": [
    {
     "name": "stdout",
     "output_type": "stream",
     "text": [
      "Hasil prediksi keterlambatan kedatangan: 10.42 menit\n"
     ]
    }
   ],
   "source": [
    "# Lakukan prediksi dengan model Random Forest\n",
    "prediksi_delay = model_rf.predict(data_baru)\n",
    "\n",
    "print(\"Hasil prediksi keterlambatan kedatangan:\", round(prediksi_delay[0], 2), \"menit\")\n"
   ]
  }
 ],
 "metadata": {
  "kernelspec": {
   "display_name": "h8_env",
   "language": "python",
   "name": "python3"
  },
  "language_info": {
   "codemirror_mode": {
    "name": "ipython",
    "version": 3
   },
   "file_extension": ".py",
   "mimetype": "text/x-python",
   "name": "python",
   "nbconvert_exporter": "python",
   "pygments_lexer": "ipython3",
   "version": "3.9.23"
  }
 },
 "nbformat": 4,
 "nbformat_minor": 5
}
